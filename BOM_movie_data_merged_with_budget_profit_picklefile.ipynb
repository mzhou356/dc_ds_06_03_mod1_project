{
 "cells": [
  {
   "cell_type": "code",
   "execution_count": 1,
   "metadata": {},
   "outputs": [],
   "source": [
    "import pandas as pd\n",
    "import numpy as np\n",
    "import matplotlib.pyplot as plt\n",
    "pd.set_option('display.precision',3)\n",
    "%matplotlib inline"
   ]
  },
  {
   "cell_type": "code",
   "execution_count": 2,
   "metadata": {},
   "outputs": [
    {
     "name": "stdout",
     "output_type": "stream",
     "text": [
      "/Users/mindy/Documents/flatiron_school/dc_ds_06_03_mod1_project/data\n"
     ]
    }
   ],
   "source": [
    "cd data"
   ]
  },
  {
   "cell_type": "code",
   "execution_count": 3,
   "metadata": {},
   "outputs": [
    {
     "name": "stdout",
     "output_type": "stream",
     "text": [
      "bom.movie_gross.csv    movie_profit_info.pkl  rt.reviews.tsv\r\n",
      "imdbcombined.pkl       rt.movie_info.tsv      tmdb.movies.csv\r\n"
     ]
    }
   ],
   "source": [
    "ls"
   ]
  },
  {
   "cell_type": "code",
   "execution_count": 4,
   "metadata": {},
   "outputs": [],
   "source": [
    "bom = pd.read_csv('bom.movie_gross.csv')"
   ]
  },
  {
   "cell_type": "code",
   "execution_count": 16,
   "metadata": {},
   "outputs": [
    {
     "name": "stdout",
     "output_type": "stream",
     "text": [
      "<class 'pandas.core.frame.DataFrame'>\n",
      "RangeIndex: 3387 entries, 0 to 3386\n",
      "Data columns (total 5 columns):\n",
      "title             3387 non-null object\n",
      "studio            3382 non-null object\n",
      "domestic_gross    3359 non-null float64\n",
      "foreign_gross     2037 non-null object\n",
      "year              3387 non-null int64\n",
      "dtypes: float64(1), int64(1), object(3)\n",
      "memory usage: 132.4+ KB\n"
     ]
    }
   ],
   "source": [
    "bom.info()"
   ]
  },
  {
   "cell_type": "code",
   "execution_count": 15,
   "metadata": {},
   "outputs": [
    {
     "data": {
      "text/plain": [
       "title                0\n",
       "studio               5\n",
       "domestic_gross      28\n",
       "foreign_gross     1350\n",
       "year                 0\n",
       "dtype: int64"
      ]
     },
     "metadata": {},
     "output_type": "display_data"
    },
    {
     "data": {
      "text/plain": [
       "(3387, 5)"
      ]
     },
     "execution_count": 15,
     "metadata": {},
     "output_type": "execute_result"
    }
   ],
   "source": [
    "display(bom.isnull().sum())\n",
    "bom.shape"
   ]
  },
  {
   "cell_type": "code",
   "execution_count": 17,
   "metadata": {},
   "outputs": [
    {
     "data": {
      "text/html": [
       "<div>\n",
       "<style scoped>\n",
       "    .dataframe tbody tr th:only-of-type {\n",
       "        vertical-align: middle;\n",
       "    }\n",
       "\n",
       "    .dataframe tbody tr th {\n",
       "        vertical-align: top;\n",
       "    }\n",
       "\n",
       "    .dataframe thead th {\n",
       "        text-align: right;\n",
       "    }\n",
       "</style>\n",
       "<table border=\"1\" class=\"dataframe\">\n",
       "  <thead>\n",
       "    <tr style=\"text-align: right;\">\n",
       "      <th></th>\n",
       "      <th>title</th>\n",
       "      <th>studio</th>\n",
       "      <th>domestic_gross</th>\n",
       "      <th>foreign_gross</th>\n",
       "      <th>year</th>\n",
       "    </tr>\n",
       "  </thead>\n",
       "  <tbody>\n",
       "    <tr>\n",
       "      <th>0</th>\n",
       "      <td>Toy Story 3</td>\n",
       "      <td>BV</td>\n",
       "      <td>4.150e+08</td>\n",
       "      <td>652000000</td>\n",
       "      <td>2010</td>\n",
       "    </tr>\n",
       "    <tr>\n",
       "      <th>1</th>\n",
       "      <td>Alice in Wonderland (2010)</td>\n",
       "      <td>BV</td>\n",
       "      <td>3.342e+08</td>\n",
       "      <td>691300000</td>\n",
       "      <td>2010</td>\n",
       "    </tr>\n",
       "    <tr>\n",
       "      <th>2</th>\n",
       "      <td>Harry Potter and the Deathly Hallows Part 1</td>\n",
       "      <td>WB</td>\n",
       "      <td>2.960e+08</td>\n",
       "      <td>664300000</td>\n",
       "      <td>2010</td>\n",
       "    </tr>\n",
       "    <tr>\n",
       "      <th>3</th>\n",
       "      <td>Inception</td>\n",
       "      <td>WB</td>\n",
       "      <td>2.926e+08</td>\n",
       "      <td>535700000</td>\n",
       "      <td>2010</td>\n",
       "    </tr>\n",
       "    <tr>\n",
       "      <th>4</th>\n",
       "      <td>Shrek Forever After</td>\n",
       "      <td>P/DW</td>\n",
       "      <td>2.387e+08</td>\n",
       "      <td>513900000</td>\n",
       "      <td>2010</td>\n",
       "    </tr>\n",
       "  </tbody>\n",
       "</table>\n",
       "</div>"
      ],
      "text/plain": [
       "                                         title studio  domestic_gross  \\\n",
       "0                                  Toy Story 3     BV       4.150e+08   \n",
       "1                   Alice in Wonderland (2010)     BV       3.342e+08   \n",
       "2  Harry Potter and the Deathly Hallows Part 1     WB       2.960e+08   \n",
       "3                                    Inception     WB       2.926e+08   \n",
       "4                          Shrek Forever After   P/DW       2.387e+08   \n",
       "\n",
       "  foreign_gross  year  \n",
       "0     652000000  2010  \n",
       "1     691300000  2010  \n",
       "2     664300000  2010  \n",
       "3     535700000  2010  \n",
       "4     513900000  2010  "
      ]
     },
     "execution_count": 17,
     "metadata": {},
     "output_type": "execute_result"
    }
   ],
   "source": [
    "bom.head()"
   ]
  },
  {
   "cell_type": "code",
   "execution_count": 19,
   "metadata": {},
   "outputs": [
    {
     "data": {
      "text/html": [
       "<div>\n",
       "<style scoped>\n",
       "    .dataframe tbody tr th:only-of-type {\n",
       "        vertical-align: middle;\n",
       "    }\n",
       "\n",
       "    .dataframe tbody tr th {\n",
       "        vertical-align: top;\n",
       "    }\n",
       "\n",
       "    .dataframe thead th {\n",
       "        text-align: right;\n",
       "    }\n",
       "</style>\n",
       "<table border=\"1\" class=\"dataframe\">\n",
       "  <thead>\n",
       "    <tr style=\"text-align: right;\">\n",
       "      <th></th>\n",
       "      <th>release_date</th>\n",
       "      <th>movie</th>\n",
       "      <th>production_budget</th>\n",
       "      <th>domestic_gross</th>\n",
       "      <th>worldwide_gross</th>\n",
       "      <th>domestic profit %</th>\n",
       "      <th>world profit %</th>\n",
       "    </tr>\n",
       "  </thead>\n",
       "  <tbody>\n",
       "    <tr>\n",
       "      <th>0</th>\n",
       "      <td>2009-12-18</td>\n",
       "      <td>Avatar</td>\n",
       "      <td>425000000</td>\n",
       "      <td>760507625</td>\n",
       "      <td>2776345279</td>\n",
       "      <td>78.943</td>\n",
       "      <td>553.258</td>\n",
       "    </tr>\n",
       "    <tr>\n",
       "      <th>1</th>\n",
       "      <td>2011-05-20</td>\n",
       "      <td>Pirates of the Caribbean: On Stranger Tides</td>\n",
       "      <td>410600000</td>\n",
       "      <td>241063875</td>\n",
       "      <td>1045663875</td>\n",
       "      <td>-41.290</td>\n",
       "      <td>154.667</td>\n",
       "    </tr>\n",
       "    <tr>\n",
       "      <th>2</th>\n",
       "      <td>2019-06-07</td>\n",
       "      <td>Dark Phoenix</td>\n",
       "      <td>350000000</td>\n",
       "      <td>42762350</td>\n",
       "      <td>149762350</td>\n",
       "      <td>-87.782</td>\n",
       "      <td>-57.211</td>\n",
       "    </tr>\n",
       "    <tr>\n",
       "      <th>3</th>\n",
       "      <td>2015-05-01</td>\n",
       "      <td>Avengers: Age of Ultron</td>\n",
       "      <td>330600000</td>\n",
       "      <td>459005868</td>\n",
       "      <td>1403013963</td>\n",
       "      <td>38.840</td>\n",
       "      <td>324.384</td>\n",
       "    </tr>\n",
       "    <tr>\n",
       "      <th>4</th>\n",
       "      <td>2017-12-15</td>\n",
       "      <td>Star Wars Ep. VIII: The Last Jedi</td>\n",
       "      <td>317000000</td>\n",
       "      <td>620181382</td>\n",
       "      <td>1316721747</td>\n",
       "      <td>95.641</td>\n",
       "      <td>315.370</td>\n",
       "    </tr>\n",
       "  </tbody>\n",
       "</table>\n",
       "</div>"
      ],
      "text/plain": [
       "  release_date                                        movie  \\\n",
       "0   2009-12-18                                       Avatar   \n",
       "1   2011-05-20  Pirates of the Caribbean: On Stranger Tides   \n",
       "2   2019-06-07                                 Dark Phoenix   \n",
       "3   2015-05-01                      Avengers: Age of Ultron   \n",
       "4   2017-12-15            Star Wars Ep. VIII: The Last Jedi   \n",
       "\n",
       "   production_budget  domestic_gross  worldwide_gross  domestic profit %  \\\n",
       "0          425000000       760507625       2776345279             78.943   \n",
       "1          410600000       241063875       1045663875            -41.290   \n",
       "2          350000000        42762350        149762350            -87.782   \n",
       "3          330600000       459005868       1403013963             38.840   \n",
       "4          317000000       620181382       1316721747             95.641   \n",
       "\n",
       "   world profit %  \n",
       "0         553.258  \n",
       "1         154.667  \n",
       "2         -57.211  \n",
       "3         324.384  \n",
       "4         315.370  "
      ]
     },
     "execution_count": 19,
     "metadata": {},
     "output_type": "execute_result"
    }
   ],
   "source": [
    "# import the movie budget pickle file \n",
    "profit = pd.read_pickle('movie_profit_info.pkl')\n",
    "profit.head()"
   ]
  },
  {
   "cell_type": "code",
   "execution_count": 25,
   "metadata": {},
   "outputs": [
    {
     "data": {
      "text/plain": [
       "(5782, 7)"
      ]
     },
     "execution_count": 25,
     "metadata": {},
     "output_type": "execute_result"
    }
   ],
   "source": [
    "profit.shape"
   ]
  },
  {
   "cell_type": "code",
   "execution_count": 24,
   "metadata": {},
   "outputs": [],
   "source": [
    "#join the two tables to see if any contradition and if extra info along with studio info \n",
    "merged_budget = profit.set_index('movie').merge(bom.set_index('title'), how = 'left', left_index= True, right_index=True)"
   ]
  },
  {
   "cell_type": "code",
   "execution_count": 26,
   "metadata": {},
   "outputs": [
    {
     "data": {
      "text/plain": [
       "(5782, 10)"
      ]
     },
     "execution_count": 26,
     "metadata": {},
     "output_type": "execute_result"
    }
   ],
   "source": [
    "merged_budget.shape"
   ]
  },
  {
   "cell_type": "code",
   "execution_count": 27,
   "metadata": {
    "scrolled": true
   },
   "outputs": [
    {
     "data": {
      "text/html": [
       "<div>\n",
       "<style scoped>\n",
       "    .dataframe tbody tr th:only-of-type {\n",
       "        vertical-align: middle;\n",
       "    }\n",
       "\n",
       "    .dataframe tbody tr th {\n",
       "        vertical-align: top;\n",
       "    }\n",
       "\n",
       "    .dataframe thead th {\n",
       "        text-align: right;\n",
       "    }\n",
       "</style>\n",
       "<table border=\"1\" class=\"dataframe\">\n",
       "  <thead>\n",
       "    <tr style=\"text-align: right;\">\n",
       "      <th></th>\n",
       "      <th>release_date</th>\n",
       "      <th>production_budget</th>\n",
       "      <th>domestic_gross_x</th>\n",
       "      <th>worldwide_gross</th>\n",
       "      <th>domestic profit %</th>\n",
       "      <th>world profit %</th>\n",
       "      <th>studio</th>\n",
       "      <th>domestic_gross_y</th>\n",
       "      <th>foreign_gross</th>\n",
       "      <th>year</th>\n",
       "    </tr>\n",
       "  </thead>\n",
       "  <tbody>\n",
       "    <tr>\n",
       "      <th>#Horror</th>\n",
       "      <td>2015-11-20</td>\n",
       "      <td>1500000</td>\n",
       "      <td>0</td>\n",
       "      <td>0</td>\n",
       "      <td>-100.000</td>\n",
       "      <td>-100.000</td>\n",
       "      <td>NaN</td>\n",
       "      <td>NaN</td>\n",
       "      <td>NaN</td>\n",
       "      <td>NaN</td>\n",
       "    </tr>\n",
       "    <tr>\n",
       "      <th>(500) Days of Summer</th>\n",
       "      <td>2009-07-17</td>\n",
       "      <td>7500000</td>\n",
       "      <td>32425665</td>\n",
       "      <td>34439060</td>\n",
       "      <td>332.342</td>\n",
       "      <td>359.187</td>\n",
       "      <td>NaN</td>\n",
       "      <td>NaN</td>\n",
       "      <td>NaN</td>\n",
       "      <td>NaN</td>\n",
       "    </tr>\n",
       "    <tr>\n",
       "      <th>10 Cloverfield Lane</th>\n",
       "      <td>2016-03-11</td>\n",
       "      <td>5000000</td>\n",
       "      <td>72082999</td>\n",
       "      <td>108286422</td>\n",
       "      <td>1341.660</td>\n",
       "      <td>2065.728</td>\n",
       "      <td>Par.</td>\n",
       "      <td>7.210e+07</td>\n",
       "      <td>38100000</td>\n",
       "      <td>2016.0</td>\n",
       "    </tr>\n",
       "    <tr>\n",
       "      <th>10 Days in a Madhouse</th>\n",
       "      <td>2015-11-11</td>\n",
       "      <td>12000000</td>\n",
       "      <td>14616</td>\n",
       "      <td>14616</td>\n",
       "      <td>-99.878</td>\n",
       "      <td>-99.878</td>\n",
       "      <td>NaN</td>\n",
       "      <td>NaN</td>\n",
       "      <td>NaN</td>\n",
       "      <td>NaN</td>\n",
       "    </tr>\n",
       "    <tr>\n",
       "      <th>10 Things I Hate About You</th>\n",
       "      <td>1999-03-31</td>\n",
       "      <td>13000000</td>\n",
       "      <td>38177966</td>\n",
       "      <td>60413950</td>\n",
       "      <td>193.677</td>\n",
       "      <td>364.723</td>\n",
       "      <td>NaN</td>\n",
       "      <td>NaN</td>\n",
       "      <td>NaN</td>\n",
       "      <td>NaN</td>\n",
       "    </tr>\n",
       "  </tbody>\n",
       "</table>\n",
       "</div>"
      ],
      "text/plain": [
       "                           release_date  production_budget  domestic_gross_x  \\\n",
       "#Horror                      2015-11-20            1500000                 0   \n",
       "(500) Days of Summer         2009-07-17            7500000          32425665   \n",
       "10 Cloverfield Lane          2016-03-11            5000000          72082999   \n",
       "10 Days in a Madhouse        2015-11-11           12000000             14616   \n",
       "10 Things I Hate About You   1999-03-31           13000000          38177966   \n",
       "\n",
       "                            worldwide_gross  domestic profit %  \\\n",
       "#Horror                                   0           -100.000   \n",
       "(500) Days of Summer               34439060            332.342   \n",
       "10 Cloverfield Lane               108286422           1341.660   \n",
       "10 Days in a Madhouse                 14616            -99.878   \n",
       "10 Things I Hate About You         60413950            193.677   \n",
       "\n",
       "                            world profit % studio  domestic_gross_y  \\\n",
       "#Horror                           -100.000    NaN               NaN   \n",
       "(500) Days of Summer               359.187    NaN               NaN   \n",
       "10 Cloverfield Lane               2065.728   Par.         7.210e+07   \n",
       "10 Days in a Madhouse              -99.878    NaN               NaN   \n",
       "10 Things I Hate About You         364.723    NaN               NaN   \n",
       "\n",
       "                           foreign_gross    year  \n",
       "#Horror                              NaN     NaN  \n",
       "(500) Days of Summer                 NaN     NaN  \n",
       "10 Cloverfield Lane             38100000  2016.0  \n",
       "10 Days in a Madhouse                NaN     NaN  \n",
       "10 Things I Hate About You           NaN     NaN  "
      ]
     },
     "execution_count": 27,
     "metadata": {},
     "output_type": "execute_result"
    }
   ],
   "source": [
    "merged_budget.head()"
   ]
  },
  {
   "cell_type": "code",
   "execution_count": 49,
   "metadata": {},
   "outputs": [
    {
     "data": {
      "text/plain": [
       "(401, 388)"
      ]
     },
     "execution_count": 49,
     "metadata": {},
     "output_type": "execute_result"
    },
    {
     "data": {
      "image/png": "[encoded data removed]",
      "text/plain": [
       "<Figure size 432x288 with 1 Axes>"
      ]
     },
     "metadata": {
      "needs_background": "light"
     },
     "output_type": "display_data"
    }
   ],
   "source": [
    "plt.boxplot(merged_budget.domestic_gross_x)\n",
    "plt.boxplot(merged_budget.worldwide_gross)\n",
    "merged_budget.worldwide_gross.min(), merged_budget.domestic_gross_x.min() # 0 Nan value \n",
    "# seems like some numbers are unsually small "
   ]
  },
  {
   "cell_type": "code",
   "execution_count": 46,
   "metadata": {},
   "outputs": [],
   "source": [
    "# remove 0 values \n",
    "merged_budget = merged_budget[(~(merged_budget.domestic_gross_x==0)) & (~(merged_budget.worldwide_gross==0))]"
   ]
  },
  {
   "cell_type": "code",
   "execution_count": 51,
   "metadata": {},
   "outputs": [
    {
     "data": {
      "text/plain": [
       "(401, 388)"
      ]
     },
     "execution_count": 51,
     "metadata": {},
     "output_type": "execute_result"
    }
   ],
   "source": [
    "# check again \n",
    "merged_budget.worldwide_gross.min(), merged_budget.domestic_gross_x.min() "
   ]
  },
  {
   "cell_type": "code",
   "execution_count": 52,
   "metadata": {},
   "outputs": [
    {
     "data": {
      "text/html": [
       "<div>\n",
       "<style scoped>\n",
       "    .dataframe tbody tr th:only-of-type {\n",
       "        vertical-align: middle;\n",
       "    }\n",
       "\n",
       "    .dataframe tbody tr th {\n",
       "        vertical-align: top;\n",
       "    }\n",
       "\n",
       "    .dataframe thead th {\n",
       "        text-align: right;\n",
       "    }\n",
       "</style>\n",
       "<table border=\"1\" class=\"dataframe\">\n",
       "  <thead>\n",
       "    <tr style=\"text-align: right;\">\n",
       "      <th></th>\n",
       "      <th>release_date</th>\n",
       "      <th>production_budget</th>\n",
       "      <th>domestic_gross_x</th>\n",
       "      <th>worldwide_gross</th>\n",
       "      <th>domestic profit %</th>\n",
       "      <th>world profit %</th>\n",
       "      <th>studio</th>\n",
       "      <th>domestic_gross_y</th>\n",
       "      <th>foreign_gross</th>\n",
       "      <th>year</th>\n",
       "    </tr>\n",
       "  </thead>\n",
       "  <tbody>\n",
       "    <tr>\n",
       "      <th>Barbecue</th>\n",
       "      <td>2014-12-26</td>\n",
       "      <td>10000000</td>\n",
       "      <td>388</td>\n",
       "      <td>247565</td>\n",
       "      <td>-99.996</td>\n",
       "      <td>-97.524</td>\n",
       "      <td>NaN</td>\n",
       "      <td>NaN</td>\n",
       "      <td>NaN</td>\n",
       "      <td>NaN</td>\n",
       "    </tr>\n",
       "    <tr>\n",
       "      <th>The Rise and Fall of Miss Thang</th>\n",
       "      <td>2008-08-14</td>\n",
       "      <td>10000</td>\n",
       "      <td>401</td>\n",
       "      <td>401</td>\n",
       "      <td>-95.990</td>\n",
       "      <td>-95.990</td>\n",
       "      <td>NaN</td>\n",
       "      <td>NaN</td>\n",
       "      <td>NaN</td>\n",
       "      <td>NaN</td>\n",
       "    </tr>\n",
       "  </tbody>\n",
       "</table>\n",
       "</div>"
      ],
      "text/plain": [
       "                                release_date  production_budget  \\\n",
       "Barbecue                          2014-12-26           10000000   \n",
       "The Rise and Fall of Miss Thang   2008-08-14              10000   \n",
       "\n",
       "                                 domestic_gross_x  worldwide_gross  \\\n",
       "Barbecue                                      388           247565   \n",
       "The Rise and Fall of Miss Thang               401              401   \n",
       "\n",
       "                                 domestic profit %  world profit % studio  \\\n",
       "Barbecue                                   -99.996         -97.524    NaN   \n",
       "The Rise and Fall of Miss Thang            -95.990         -95.990    NaN   \n",
       "\n",
       "                                 domestic_gross_y foreign_gross  year  \n",
       "Barbecue                                      NaN           NaN   NaN  \n",
       "The Rise and Fall of Miss Thang               NaN           NaN   NaN  "
      ]
     },
     "execution_count": 52,
     "metadata": {},
     "output_type": "execute_result"
    }
   ],
   "source": [
    "# very small value let's investigate\n",
    "merged_budget[(merged_budget.worldwide_gross == 401)|(merged_budget.domestic_gross_x == 388)]\n",
    "# neither make sense on the internet "
   ]
  },
  {
   "cell_type": "code",
   "execution_count": 62,
   "metadata": {},
   "outputs": [],
   "source": [
    "# for more accuracy we will drop 5% quantile \n",
    "merged_budget = merged_budget[(merged_budget.worldwide_gross >= merged_budget.worldwide_gross.quantile(0.05))\\\n",
    "              &(merged_budget.domestic_gross_x >= merged_budget.domestic_gross_x.quantile(0.05))]"
   ]
  },
  {
   "cell_type": "code",
   "execution_count": 69,
   "metadata": {},
   "outputs": [
    {
     "data": {
      "text/plain": [
       "(61611, 146083)"
      ]
     },
     "execution_count": 69,
     "metadata": {},
     "output_type": "execute_result"
    }
   ],
   "source": [
    "min(merged_budget.domestic_gross_x), min(merged_budget.worldwide_gross)"
   ]
  },
  {
   "cell_type": "code",
   "execution_count": 70,
   "metadata": {},
   "outputs": [
    {
     "data": {
      "text/html": [
       "<div>\n",
       "<style scoped>\n",
       "    .dataframe tbody tr th:only-of-type {\n",
       "        vertical-align: middle;\n",
       "    }\n",
       "\n",
       "    .dataframe tbody tr th {\n",
       "        vertical-align: top;\n",
       "    }\n",
       "\n",
       "    .dataframe thead th {\n",
       "        text-align: right;\n",
       "    }\n",
       "</style>\n",
       "<table border=\"1\" class=\"dataframe\">\n",
       "  <thead>\n",
       "    <tr style=\"text-align: right;\">\n",
       "      <th></th>\n",
       "      <th>release_date</th>\n",
       "      <th>production_budget</th>\n",
       "      <th>domestic_gross_x</th>\n",
       "      <th>worldwide_gross</th>\n",
       "      <th>domestic profit %</th>\n",
       "      <th>world profit %</th>\n",
       "      <th>studio</th>\n",
       "      <th>domestic_gross_y</th>\n",
       "      <th>foreign_gross</th>\n",
       "      <th>year</th>\n",
       "    </tr>\n",
       "  </thead>\n",
       "  <tbody>\n",
       "    <tr>\n",
       "      <th>The Land Girls</th>\n",
       "      <td>1998-06-12</td>\n",
       "      <td>8000000</td>\n",
       "      <td>146083</td>\n",
       "      <td>146083</td>\n",
       "      <td>-98.174</td>\n",
       "      <td>-98.174</td>\n",
       "      <td>NaN</td>\n",
       "      <td>NaN</td>\n",
       "      <td>NaN</td>\n",
       "      <td>NaN</td>\n",
       "    </tr>\n",
       "  </tbody>\n",
       "</table>\n",
       "</div>"
      ],
      "text/plain": [
       "               release_date  production_budget  domestic_gross_x  \\\n",
       "The Land Girls   1998-06-12            8000000            146083   \n",
       "\n",
       "                worldwide_gross  domestic profit %  world profit % studio  \\\n",
       "The Land Girls           146083            -98.174         -98.174    NaN   \n",
       "\n",
       "                domestic_gross_y foreign_gross  year  \n",
       "The Land Girls               NaN           NaN   NaN  "
      ]
     },
     "execution_count": 70,
     "metadata": {},
     "output_type": "execute_result"
    }
   ],
   "source": [
    "merged_budget[(merged_budget.worldwide_gross == 61611)|(merged_budget.domestic_gross_x == 146083)]  # checks out online"
   ]
  },
  {
   "cell_type": "code",
   "execution_count": 71,
   "metadata": {},
   "outputs": [
    {
     "data": {
      "text/html": [
       "<div>\n",
       "<style scoped>\n",
       "    .dataframe tbody tr th:only-of-type {\n",
       "        vertical-align: middle;\n",
       "    }\n",
       "\n",
       "    .dataframe tbody tr th {\n",
       "        vertical-align: top;\n",
       "    }\n",
       "\n",
       "    .dataframe thead th {\n",
       "        text-align: right;\n",
       "    }\n",
       "</style>\n",
       "<table border=\"1\" class=\"dataframe\">\n",
       "  <thead>\n",
       "    <tr style=\"text-align: right;\">\n",
       "      <th></th>\n",
       "      <th>release_date</th>\n",
       "      <th>production_budget</th>\n",
       "      <th>domestic_gross_x</th>\n",
       "      <th>worldwide_gross</th>\n",
       "      <th>domestic profit %</th>\n",
       "      <th>world profit %</th>\n",
       "      <th>studio</th>\n",
       "      <th>domestic_gross_y</th>\n",
       "      <th>foreign_gross</th>\n",
       "      <th>year</th>\n",
       "    </tr>\n",
       "  </thead>\n",
       "  <tbody>\n",
       "    <tr>\n",
       "      <th>(500) Days of Summer</th>\n",
       "      <td>2009-07-17</td>\n",
       "      <td>7500000</td>\n",
       "      <td>32425665</td>\n",
       "      <td>34439060</td>\n",
       "      <td>332.342</td>\n",
       "      <td>359.187</td>\n",
       "      <td>NaN</td>\n",
       "      <td>NaN</td>\n",
       "      <td>NaN</td>\n",
       "      <td>NaN</td>\n",
       "    </tr>\n",
       "    <tr>\n",
       "      <th>10 Cloverfield Lane</th>\n",
       "      <td>2016-03-11</td>\n",
       "      <td>5000000</td>\n",
       "      <td>72082999</td>\n",
       "      <td>108286422</td>\n",
       "      <td>1341.660</td>\n",
       "      <td>2065.728</td>\n",
       "      <td>Par.</td>\n",
       "      <td>7.210e+07</td>\n",
       "      <td>38100000</td>\n",
       "      <td>2016.0</td>\n",
       "    </tr>\n",
       "    <tr>\n",
       "      <th>10 Things I Hate About You</th>\n",
       "      <td>1999-03-31</td>\n",
       "      <td>13000000</td>\n",
       "      <td>38177966</td>\n",
       "      <td>60413950</td>\n",
       "      <td>193.677</td>\n",
       "      <td>364.723</td>\n",
       "      <td>NaN</td>\n",
       "      <td>NaN</td>\n",
       "      <td>NaN</td>\n",
       "      <td>NaN</td>\n",
       "    </tr>\n",
       "    <tr>\n",
       "      <th>10,000 B.C.</th>\n",
       "      <td>2008-03-07</td>\n",
       "      <td>105000000</td>\n",
       "      <td>94784201</td>\n",
       "      <td>269065678</td>\n",
       "      <td>-9.729</td>\n",
       "      <td>156.253</td>\n",
       "      <td>NaN</td>\n",
       "      <td>NaN</td>\n",
       "      <td>NaN</td>\n",
       "      <td>NaN</td>\n",
       "    </tr>\n",
       "    <tr>\n",
       "      <th>102 Dalmatians</th>\n",
       "      <td>2000-11-22</td>\n",
       "      <td>85000000</td>\n",
       "      <td>66941559</td>\n",
       "      <td>66941559</td>\n",
       "      <td>-21.245</td>\n",
       "      <td>-21.245</td>\n",
       "      <td>NaN</td>\n",
       "      <td>NaN</td>\n",
       "      <td>NaN</td>\n",
       "      <td>NaN</td>\n",
       "    </tr>\n",
       "  </tbody>\n",
       "</table>\n",
       "</div>"
      ],
      "text/plain": [
       "                           release_date  production_budget  domestic_gross_x  \\\n",
       "(500) Days of Summer         2009-07-17            7500000          32425665   \n",
       "10 Cloverfield Lane          2016-03-11            5000000          72082999   \n",
       "10 Things I Hate About You   1999-03-31           13000000          38177966   \n",
       "10,000 B.C.                  2008-03-07          105000000          94784201   \n",
       "102 Dalmatians               2000-11-22           85000000          66941559   \n",
       "\n",
       "                            worldwide_gross  domestic profit %  \\\n",
       "(500) Days of Summer               34439060            332.342   \n",
       "10 Cloverfield Lane               108286422           1341.660   \n",
       "10 Things I Hate About You         60413950            193.677   \n",
       "10,000 B.C.                       269065678             -9.729   \n",
       "102 Dalmatians                     66941559            -21.245   \n",
       "\n",
       "                            world profit % studio  domestic_gross_y  \\\n",
       "(500) Days of Summer               359.187    NaN               NaN   \n",
       "10 Cloverfield Lane               2065.728   Par.         7.210e+07   \n",
       "10 Things I Hate About You         364.723    NaN               NaN   \n",
       "10,000 B.C.                        156.253    NaN               NaN   \n",
       "102 Dalmatians                     -21.245    NaN               NaN   \n",
       "\n",
       "                           foreign_gross    year  \n",
       "(500) Days of Summer                 NaN     NaN  \n",
       "10 Cloverfield Lane             38100000  2016.0  \n",
       "10 Things I Hate About You           NaN     NaN  \n",
       "10,000 B.C.                          NaN     NaN  \n",
       "102 Dalmatians                       NaN     NaN  "
      ]
     },
     "execution_count": 71,
     "metadata": {},
     "output_type": "execute_result"
    }
   ],
   "source": [
    "merged_budget.head()"
   ]
  },
  {
   "cell_type": "code",
   "execution_count": 88,
   "metadata": {},
   "outputs": [],
   "source": [
    "# studio is not relevant for microsoft as they are trying to make their own movie \n",
    "# we will also check for consistency in data\n",
    "compare_budget = merged_budget.dropna(axis = 0, subset= ['year','domestic_gross_y', 'foreign_gross'])"
   ]
  },
  {
   "cell_type": "code",
   "execution_count": 93,
   "metadata": {},
   "outputs": [
    {
     "data": {
      "text/plain": [
       "False"
      ]
     },
     "execution_count": 93,
     "metadata": {},
     "output_type": "execute_result"
    }
   ],
   "source": [
    "compare1 = compare_budget.release_date.dt.year == compare_budget.year\n",
    "compare1.all()# not all match"
   ]
  },
  {
   "cell_type": "code",
   "execution_count": 99,
   "metadata": {},
   "outputs": [
    {
     "data": {
      "text/html": [
       "<div>\n",
       "<style scoped>\n",
       "    .dataframe tbody tr th:only-of-type {\n",
       "        vertical-align: middle;\n",
       "    }\n",
       "\n",
       "    .dataframe tbody tr th {\n",
       "        vertical-align: top;\n",
       "    }\n",
       "\n",
       "    .dataframe thead th {\n",
       "        text-align: right;\n",
       "    }\n",
       "</style>\n",
       "<table border=\"1\" class=\"dataframe\">\n",
       "  <thead>\n",
       "    <tr style=\"text-align: right;\">\n",
       "      <th></th>\n",
       "      <th>release_date</th>\n",
       "      <th>production_budget</th>\n",
       "      <th>domestic_gross_x</th>\n",
       "      <th>worldwide_gross</th>\n",
       "      <th>domestic profit %</th>\n",
       "      <th>world profit %</th>\n",
       "      <th>studio</th>\n",
       "      <th>domestic_gross_y</th>\n",
       "      <th>foreign_gross</th>\n",
       "      <th>year</th>\n",
       "    </tr>\n",
       "  </thead>\n",
       "  <tbody>\n",
       "    <tr>\n",
       "      <th>A Monster Calls</th>\n",
       "      <td>2017-01-06</td>\n",
       "      <td>43000000</td>\n",
       "      <td>3740823</td>\n",
       "      <td>46414530</td>\n",
       "      <td>-91.300</td>\n",
       "      <td>7.941</td>\n",
       "      <td>Focus</td>\n",
       "      <td>3.700e+06</td>\n",
       "      <td>43600000</td>\n",
       "      <td>2016.0</td>\n",
       "    </tr>\n",
       "    <tr>\n",
       "      <th>Albert Nobbs</th>\n",
       "      <td>2011-12-21</td>\n",
       "      <td>7500000</td>\n",
       "      <td>3014696</td>\n",
       "      <td>8539003</td>\n",
       "      <td>-59.804</td>\n",
       "      <td>13.853</td>\n",
       "      <td>RAtt.</td>\n",
       "      <td>3.000e+06</td>\n",
       "      <td>2600000</td>\n",
       "      <td>2012.0</td>\n",
       "    </tr>\n",
       "    <tr>\n",
       "      <th>City of Ghosts</th>\n",
       "      <td>2003-04-25</td>\n",
       "      <td>17500000</td>\n",
       "      <td>325491</td>\n",
       "      <td>325491</td>\n",
       "      <td>-98.140</td>\n",
       "      <td>-98.140</td>\n",
       "      <td>IFC</td>\n",
       "      <td>1.280e+05</td>\n",
       "      <td>100000</td>\n",
       "      <td>2017.0</td>\n",
       "    </tr>\n",
       "    <tr>\n",
       "      <th>Fantastic Four</th>\n",
       "      <td>2005-07-08</td>\n",
       "      <td>87500000</td>\n",
       "      <td>154696080</td>\n",
       "      <td>333132750</td>\n",
       "      <td>76.796</td>\n",
       "      <td>280.723</td>\n",
       "      <td>Fox</td>\n",
       "      <td>5.610e+07</td>\n",
       "      <td>111900000</td>\n",
       "      <td>2015.0</td>\n",
       "    </tr>\n",
       "    <tr>\n",
       "      <th>Legend</th>\n",
       "      <td>1986-04-18</td>\n",
       "      <td>25000000</td>\n",
       "      <td>15502112</td>\n",
       "      <td>23506237</td>\n",
       "      <td>-37.992</td>\n",
       "      <td>-5.975</td>\n",
       "      <td>Uni.</td>\n",
       "      <td>1.900e+06</td>\n",
       "      <td>41100000</td>\n",
       "      <td>2015.0</td>\n",
       "    </tr>\n",
       "    <tr>\n",
       "      <th>On the Road</th>\n",
       "      <td>2013-03-22</td>\n",
       "      <td>25000000</td>\n",
       "      <td>720828</td>\n",
       "      <td>9313302</td>\n",
       "      <td>-97.117</td>\n",
       "      <td>-62.747</td>\n",
       "      <td>IFC</td>\n",
       "      <td>7.440e+05</td>\n",
       "      <td>8000000</td>\n",
       "      <td>2012.0</td>\n",
       "    </tr>\n",
       "    <tr>\n",
       "      <th>Robin Hood</th>\n",
       "      <td>2018-11-21</td>\n",
       "      <td>99000000</td>\n",
       "      <td>30824628</td>\n",
       "      <td>84747441</td>\n",
       "      <td>-68.864</td>\n",
       "      <td>-14.397</td>\n",
       "      <td>Uni.</td>\n",
       "      <td>1.053e+08</td>\n",
       "      <td>216400000</td>\n",
       "      <td>2010.0</td>\n",
       "    </tr>\n",
       "    <tr>\n",
       "      <th>Selma</th>\n",
       "      <td>2015-01-09</td>\n",
       "      <td>20000000</td>\n",
       "      <td>52076908</td>\n",
       "      <td>66776576</td>\n",
       "      <td>160.385</td>\n",
       "      <td>233.883</td>\n",
       "      <td>Par.</td>\n",
       "      <td>5.210e+07</td>\n",
       "      <td>14700000</td>\n",
       "      <td>2014.0</td>\n",
       "    </tr>\n",
       "    <tr>\n",
       "      <th>The Girl on the Train</th>\n",
       "      <td>2016-10-07</td>\n",
       "      <td>45000000</td>\n",
       "      <td>75395035</td>\n",
       "      <td>174278214</td>\n",
       "      <td>67.545</td>\n",
       "      <td>287.285</td>\n",
       "      <td>Strand</td>\n",
       "      <td>2.080e+05</td>\n",
       "      <td>97100</td>\n",
       "      <td>2010.0</td>\n",
       "    </tr>\n",
       "    <tr>\n",
       "      <th>The Girl with the Dragon Tattoo</th>\n",
       "      <td>2011-12-20</td>\n",
       "      <td>90000000</td>\n",
       "      <td>102515793</td>\n",
       "      <td>239373970</td>\n",
       "      <td>13.906</td>\n",
       "      <td>165.971</td>\n",
       "      <td>MBox</td>\n",
       "      <td>1.010e+07</td>\n",
       "      <td>94300000</td>\n",
       "      <td>2010.0</td>\n",
       "    </tr>\n",
       "    <tr>\n",
       "      <th>The Iron Lady</th>\n",
       "      <td>2012-01-13</td>\n",
       "      <td>14000000</td>\n",
       "      <td>29959436</td>\n",
       "      <td>115592104</td>\n",
       "      <td>113.996</td>\n",
       "      <td>725.658</td>\n",
       "      <td>Wein.</td>\n",
       "      <td>3.000e+07</td>\n",
       "      <td>84900000</td>\n",
       "      <td>2011.0</td>\n",
       "    </tr>\n",
       "    <tr>\n",
       "      <th>The Karate Kid</th>\n",
       "      <td>1984-06-22</td>\n",
       "      <td>8000000</td>\n",
       "      <td>90815558</td>\n",
       "      <td>90815558</td>\n",
       "      <td>1035.194</td>\n",
       "      <td>1035.194</td>\n",
       "      <td>Sony</td>\n",
       "      <td>1.766e+08</td>\n",
       "      <td>182500000</td>\n",
       "      <td>2010.0</td>\n",
       "    </tr>\n",
       "    <tr>\n",
       "      <th>The Lady in the Van</th>\n",
       "      <td>2016-01-15</td>\n",
       "      <td>6000000</td>\n",
       "      <td>10021175</td>\n",
       "      <td>42320503</td>\n",
       "      <td>67.020</td>\n",
       "      <td>605.342</td>\n",
       "      <td>SPC</td>\n",
       "      <td>1.000e+07</td>\n",
       "      <td>31400000</td>\n",
       "      <td>2015.0</td>\n",
       "    </tr>\n",
       "    <tr>\n",
       "      <th>The Other Woman</th>\n",
       "      <td>2014-04-25</td>\n",
       "      <td>40000000</td>\n",
       "      <td>83911193</td>\n",
       "      <td>195111193</td>\n",
       "      <td>109.778</td>\n",
       "      <td>387.778</td>\n",
       "      <td>IFC</td>\n",
       "      <td>2.540e+04</td>\n",
       "      <td>427000</td>\n",
       "      <td>2011.0</td>\n",
       "    </tr>\n",
       "    <tr>\n",
       "      <th>We Need to Talk About Kevin</th>\n",
       "      <td>2012-01-13</td>\n",
       "      <td>7000000</td>\n",
       "      <td>1738692</td>\n",
       "      <td>10765283</td>\n",
       "      <td>-75.162</td>\n",
       "      <td>53.790</td>\n",
       "      <td>Osci.</td>\n",
       "      <td>1.700e+06</td>\n",
       "      <td>4300000</td>\n",
       "      <td>2011.0</td>\n",
       "    </tr>\n",
       "  </tbody>\n",
       "</table>\n",
       "</div>"
      ],
      "text/plain": [
       "                                release_date  production_budget  \\\n",
       "A Monster Calls                   2017-01-06           43000000   \n",
       "Albert Nobbs                      2011-12-21            7500000   \n",
       "City of Ghosts                    2003-04-25           17500000   \n",
       "Fantastic Four                    2005-07-08           87500000   \n",
       "Legend                            1986-04-18           25000000   \n",
       "On the Road                       2013-03-22           25000000   \n",
       "Robin Hood                        2018-11-21           99000000   \n",
       "Selma                             2015-01-09           20000000   \n",
       "The Girl on the Train             2016-10-07           45000000   \n",
       "The Girl with the Dragon Tattoo   2011-12-20           90000000   \n",
       "The Iron Lady                     2012-01-13           14000000   \n",
       "The Karate Kid                    1984-06-22            8000000   \n",
       "The Lady in the Van               2016-01-15            6000000   \n",
       "The Other Woman                   2014-04-25           40000000   \n",
       "We Need to Talk About Kevin       2012-01-13            7000000   \n",
       "\n",
       "                                 domestic_gross_x  worldwide_gross  \\\n",
       "A Monster Calls                           3740823         46414530   \n",
       "Albert Nobbs                              3014696          8539003   \n",
       "City of Ghosts                             325491           325491   \n",
       "Fantastic Four                          154696080        333132750   \n",
       "Legend                                   15502112         23506237   \n",
       "On the Road                                720828          9313302   \n",
       "Robin Hood                               30824628         84747441   \n",
       "Selma                                    52076908         66776576   \n",
       "The Girl on the Train                    75395035        174278214   \n",
       "The Girl with the Dragon Tattoo         102515793        239373970   \n",
       "The Iron Lady                            29959436        115592104   \n",
       "The Karate Kid                           90815558         90815558   \n",
       "The Lady in the Van                      10021175         42320503   \n",
       "The Other Woman                          83911193        195111193   \n",
       "We Need to Talk About Kevin               1738692         10765283   \n",
       "\n",
       "                                 domestic profit %  world profit %  studio  \\\n",
       "A Monster Calls                            -91.300           7.941   Focus   \n",
       "Albert Nobbs                               -59.804          13.853   RAtt.   \n",
       "City of Ghosts                             -98.140         -98.140     IFC   \n",
       "Fantastic Four                              76.796         280.723     Fox   \n",
       "Legend                                     -37.992          -5.975    Uni.   \n",
       "On the Road                                -97.117         -62.747     IFC   \n",
       "Robin Hood                                 -68.864         -14.397    Uni.   \n",
       "Selma                                      160.385         233.883    Par.   \n",
       "The Girl on the Train                       67.545         287.285  Strand   \n",
       "The Girl with the Dragon Tattoo             13.906         165.971    MBox   \n",
       "The Iron Lady                              113.996         725.658   Wein.   \n",
       "The Karate Kid                            1035.194        1035.194    Sony   \n",
       "The Lady in the Van                         67.020         605.342     SPC   \n",
       "The Other Woman                            109.778         387.778     IFC   \n",
       "We Need to Talk About Kevin                -75.162          53.790   Osci.   \n",
       "\n",
       "                                 domestic_gross_y foreign_gross    year  \n",
       "A Monster Calls                         3.700e+06      43600000  2016.0  \n",
       "Albert Nobbs                            3.000e+06       2600000  2012.0  \n",
       "City of Ghosts                          1.280e+05        100000  2017.0  \n",
       "Fantastic Four                          5.610e+07     111900000  2015.0  \n",
       "Legend                                  1.900e+06      41100000  2015.0  \n",
       "On the Road                             7.440e+05       8000000  2012.0  \n",
       "Robin Hood                              1.053e+08     216400000  2010.0  \n",
       "Selma                                   5.210e+07      14700000  2014.0  \n",
       "The Girl on the Train                   2.080e+05         97100  2010.0  \n",
       "The Girl with the Dragon Tattoo         1.010e+07      94300000  2010.0  \n",
       "The Iron Lady                           3.000e+07      84900000  2011.0  \n",
       "The Karate Kid                          1.766e+08     182500000  2010.0  \n",
       "The Lady in the Van                     1.000e+07      31400000  2015.0  \n",
       "The Other Woman                         2.540e+04        427000  2011.0  \n",
       "We Need to Talk About Kevin             1.700e+06       4300000  2011.0  "
      ]
     },
     "execution_count": 99,
     "metadata": {},
     "output_type": "execute_result"
    }
   ],
   "source": [
    "# compare_budget[~compare1]  # appears the release_date is correct \n",
    "compare_budget[~compare1]"
   ]
  },
  {
   "cell_type": "code",
   "execution_count": 100,
   "metadata": {
    "scrolled": true
   },
   "outputs": [],
   "source": [
    "# appears that some movies with the same name but remade especially thos off by more than one year\n",
    "# everything seems to check out for the budget data, we will get rid of columns studio to year "
   ]
  },
  {
   "cell_type": "code",
   "execution_count": 101,
   "metadata": {},
   "outputs": [],
   "source": [
    "merged_budget.drop(columns = ['studio','domestic_gross_y', 'foreign_gross','year'], inplace = True)"
   ]
  },
  {
   "cell_type": "code",
   "execution_count": 104,
   "metadata": {},
   "outputs": [],
   "source": [
    "merged_budget.rename(columns={'domestic_gross_x':'domestic_gross'}, inplace = True)"
   ]
  },
  {
   "cell_type": "code",
   "execution_count": 105,
   "metadata": {},
   "outputs": [],
   "source": [
    "merged_budget.to_pickle('budget_profit_merged.pkl')"
   ]
  },
  {
   "cell_type": "code",
   "execution_count": 106,
   "metadata": {},
   "outputs": [
    {
     "name": "stdout",
     "output_type": "stream",
     "text": [
      "bom.movie_gross.csv       movie_profit_info.pkl     tmdb.movies.csv\r\n",
      "budget_profit_merged.pkl  rt.movie_info.tsv\r\n",
      "imdbcombined.pkl          rt.reviews.tsv\r\n"
     ]
    }
   ],
   "source": [
    "ls"
   ]
  },
  {
   "cell_type": "code",
   "execution_count": 108,
   "metadata": {},
   "outputs": [
    {
     "data": {
      "text/plain": [
       "(4900, 6)"
      ]
     },
     "execution_count": 108,
     "metadata": {},
     "output_type": "execute_result"
    }
   ],
   "source": [
    "pd.read_pickle('budget_profit_merged.pkl').shape"
   ]
  }
 ],
 "metadata": {
  "kernelspec": {
   "display_name": "Python 3",
   "language": "python",
   "name": "python3"
  },
  "language_info": {
   "codemirror_mode": {
    "name": "ipython",
    "version": 3
   },
   "file_extension": ".py",
   "mimetype": "text/x-python",
   "name": "python",
   "nbconvert_exporter": "python",
   "pygments_lexer": "ipython3",
   "version": "3.7.1"
  }
 },
 "nbformat": 4,
 "nbformat_minor": 2
}
